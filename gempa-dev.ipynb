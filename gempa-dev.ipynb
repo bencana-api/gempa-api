{
 "metadata": {
  "name": ""
 },
 "nbformat": 3,
 "nbformat_minor": 0,
 "worksheets": [
  {
   "cells": [
    {
     "cell_type": "markdown",
     "metadata": {},
     "source": [
      "# dev on gempa-api\n",
      "\n",
      "the research is about this API is inspired from one of hackathon merdeka 2.0 finalist that told me that\n",
      "he needs a raw data about current (it means, real-time report of earthquake) \n"
     ]
    },
    {
     "cell_type": "code",
     "collapsed": false,
     "input": [
      "from urllib import urlopen\n",
      "from bs4 import BeautifulSoup as bs\n",
      "\n",
      "def fetchdata():\n",
      "    url = 'http://www.bmkg.go.id/BMKG_Pusat/Kualitas_Udara/Informasi_Partikulat.bmkg'\n",
      "    data = urlopen(url).read()\n",
      "    return data\n",
      "\n",
      "def fetchdatasoup(data):\n",
      "    soup = bs(data)\n",
      "    raw = soup.find(\"div\", {\"class\":\"panel panel-default row\"})\n",
      "    return raw.text\n",
      "\n",
      "def getgempa():\n",
      "    data = fetchdatasoup(fetchdata())\n",
      "    return data\n",
      "\n",
      "print getgempa()\n",
      "    "
     ],
     "language": "python",
     "metadata": {},
     "outputs": [
      {
       "output_type": "stream",
       "stream": "stdout",
       "text": [
        "\n",
        "Gempabumi Terkini\n",
        "\n",
        "12 November 2015 - 21:01:41 WIB\n",
        "\n",
        "\n",
        "\n",
        "\n",
        "\n",
        "\r\n",
        "\t\t\t\tLokasi :5.90 LS - 109.19 BT\r\n",
        "\t\t\t\tKedalaman : 27 Km\n",
        "\n",
        "\n",
        "109 km TimurLaut KOTA-TEGAL-JATENGtidak berpotensi TSUNAMI\n",
        "Selengkapnya\n",
        "\n",
        "\n"
       ]
      }
     ],
     "prompt_number": 6
    },
    {
     "cell_type": "code",
     "collapsed": false,
     "input": [],
     "language": "python",
     "metadata": {},
     "outputs": []
    }
   ],
   "metadata": {}
  }
 ]
}